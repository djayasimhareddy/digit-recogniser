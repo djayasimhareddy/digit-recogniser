{
  "nbformat": 4,
  "nbformat_minor": 0,
  "metadata": {
    "colab": {
      "provenance": []
    },
    "kernelspec": {
      "name": "python3",
      "display_name": "Python 3"
    },
    "language_info": {
      "name": "python"
    }
  },
  "cells": [
    {
      "cell_type": "code",
      "execution_count": null,
      "metadata": {
        "id": "ptlKy1brc8UP"
      },
      "outputs": [],
      "source": [
        "import pandas as pd\n"
      ]
    },
    {
      "cell_type": "code",
      "source": [
        "# Downloading the datasets using wget\n",
        "!wget https://nkb-backend-otg-media-static.s3.ap-south-1.amazonaws.com/otg_prod/media/Tech_4.0/AI_ML/Datasets/kaggle_mnist/train.csv\n",
        "!wget https://nkb-backend-otg-media-static.s3.ap-south-1.amazonaws.com/otg_prod/media/Tech_4.0/AI_ML/Datasets/kaggle_mnist/test.csv"
      ],
      "metadata": {
        "colab": {
          "base_uri": "https://localhost:8080/"
        },
        "collapsed": true,
        "id": "KLLZlECPdCqQ",
        "outputId": "352c6eba-ee33-43b6-92a2-1e47233ef314"
      },
      "execution_count": null,
      "outputs": [
        {
          "output_type": "stream",
          "name": "stdout",
          "text": [
            "--2024-12-08 08:48:21--  https://nkb-backend-otg-media-static.s3.ap-south-1.amazonaws.com/otg_prod/media/Tech_4.0/AI_ML/Datasets/kaggle_mnist/train.csv\n",
            "Resolving nkb-backend-otg-media-static.s3.ap-south-1.amazonaws.com (nkb-backend-otg-media-static.s3.ap-south-1.amazonaws.com)... 52.219.160.194, 16.12.40.2, 52.219.160.154, ...\n",
            "Connecting to nkb-backend-otg-media-static.s3.ap-south-1.amazonaws.com (nkb-backend-otg-media-static.s3.ap-south-1.amazonaws.com)|52.219.160.194|:443... connected.\n",
            "HTTP request sent, awaiting response... 200 OK\n",
            "Length: 76775041 (73M) [text/csv]\n",
            "Saving to: ‘train.csv’\n",
            "\n",
            "train.csv           100%[===================>]  73.22M  10.8MB/s    in 19s     \n",
            "\n",
            "2024-12-08 08:48:41 (3.90 MB/s) - ‘train.csv’ saved [76775041/76775041]\n",
            "\n",
            "--2024-12-08 08:48:41--  https://nkb-backend-otg-media-static.s3.ap-south-1.amazonaws.com/otg_prod/media/Tech_4.0/AI_ML/Datasets/kaggle_mnist/test.csv\n",
            "Resolving nkb-backend-otg-media-static.s3.ap-south-1.amazonaws.com (nkb-backend-otg-media-static.s3.ap-south-1.amazonaws.com)... 16.12.40.34, 3.5.208.129, 3.5.211.152, ...\n",
            "Connecting to nkb-backend-otg-media-static.s3.ap-south-1.amazonaws.com (nkb-backend-otg-media-static.s3.ap-south-1.amazonaws.com)|16.12.40.34|:443... connected.\n",
            "HTTP request sent, awaiting response... 200 OK\n",
            "Length: 51118296 (49M) [text/csv]\n",
            "Saving to: ‘test.csv’\n",
            "\n",
            "test.csv            100%[===================>]  48.75M  7.58MB/s    in 17s     \n",
            "\n",
            "2024-12-08 08:48:59 (2.89 MB/s) - ‘test.csv’ saved [51118296/51118296]\n",
            "\n"
          ]
        }
      ]
    },
    {
      "cell_type": "code",
      "source": [
        "# creating the dataframes\n",
        "test_df = pd.read_csv('test.csv')\n",
        "train_df = pd.read_csv('train.csv')\n",
        "train_x = train_df.drop(columns=['label'])\n",
        "train_y=train_df['label']"
      ],
      "metadata": {
        "id": "Yc5UhJ6hdT9B"
      },
      "execution_count": null,
      "outputs": []
    },
    {
      "cell_type": "code",
      "source": [
        "from sklearn.model_selection import train_test_split as tts\n",
        "train_x_split,validation_x_split,train_y_split,validation_y_split = tts(train_x,train_y,test_size=0.2)\n"
      ],
      "metadata": {
        "id": "v_tcFUc8eDDJ"
      },
      "execution_count": null,
      "outputs": []
    },
    {
      "cell_type": "code",
      "source": [
        "from sklearn.neighbors import KNeighborsClassifier as KNN\n",
        "from sklearn.model_selection import GridSearchCV as gscv\n",
        "hy_params = {\n",
        "    \"n_neighbors\": [10,15],\n",
        "    \"p\" : [1,2]\n",
        "}\n",
        "clf = gscv(KNN(),hy_params,scoring=\"accuracy\",n_jobs = 3 ,refit=True, cv = 2,verbose=1)\n",
        "clf.fit(train_x,train_y)\n",
        "print(clf.best_params_)"
      ],
      "metadata": {
        "colab": {
          "base_uri": "https://localhost:8080/"
        },
        "id": "XvCVyHpUhkwH",
        "outputId": "9353b43e-aea9-4a16-f741-10de3a0f60a2"
      },
      "execution_count": null,
      "outputs": [
        {
          "output_type": "stream",
          "name": "stdout",
          "text": [
            "Fitting 2 folds for each of 4 candidates, totalling 8 fits\n",
            "{'n_neighbors': 10, 'p': 2}\n"
          ]
        }
      ]
    },
    {
      "cell_type": "code",
      "source": [
        "best_model = clf.best_estimator_\n",
        "predicted_test_y = best_model.predict(test_x)\n",
        "predicted_test_y"
      ],
      "metadata": {
        "colab": {
          "base_uri": "https://localhost:8080/"
        },
        "id": "VsmUCCX11XXa",
        "outputId": "2c13c25a-fddb-438d-fb14-a0e97e0e0263"
      },
      "execution_count": null,
      "outputs": [
        {
          "output_type": "execute_result",
          "data": {
            "text/plain": [
              "array([2, 0, 9, ..., 3, 9, 2])"
            ]
          },
          "metadata": {},
          "execution_count": 40
        }
      ]
    },
    {
      "cell_type": "code",
      "source": [
        "predicted_test_y = pd.DataFrame(predicted_test_y)\n",
        "predicted_test_y.columns = ['Label']\n",
        "predicted_test_y.insert(loc=0, column='ImageId', value=predicted_test_y.index + 1)\n",
        "print(predicted_test_y)\n",
        "\n",
        "predicted_test_y.to_csv('submission.csv', index=False)"
      ],
      "metadata": {
        "colab": {
          "base_uri": "https://localhost:8080/"
        },
        "id": "xsQX4qIV2yGR",
        "outputId": "627e582d-e7f3-488c-81bc-7eba7765d05d"
      },
      "execution_count": null,
      "outputs": [
        {
          "output_type": "stream",
          "name": "stdout",
          "text": [
            "       ImageId  Label\n",
            "0            1      2\n",
            "1            2      0\n",
            "2            3      9\n",
            "3            4      4\n",
            "4            5      3\n",
            "...        ...    ...\n",
            "27995    27996      9\n",
            "27996    27997      7\n",
            "27997    27998      3\n",
            "27998    27999      9\n",
            "27999    28000      2\n",
            "\n",
            "[28000 rows x 2 columns]\n"
          ]
        }
      ]
    },
    {
      "cell_type": "code",
      "source": [
        "import numpy as np\n",
        "import matplotlib.pyplot as plt\n",
        "\n",
        "def visualise(image_df):\n",
        "    image_1D = image_df.to_numpy()\n",
        "    image_2D = image_1D.reshape((28,28))\n",
        "    plt.imshow(image_2D, cmap=plt.get_cmap('gray'))\n",
        "    plt.show()"
      ],
      "metadata": {
        "id": "BjSdfSuXqAgL"
      },
      "execution_count": null,
      "outputs": []
    },
    {
      "cell_type": "code",
      "source": [
        "visualise(test_df.loc[13])\n",
        "visualise(test_df.loc[16])\n",
        "visualise(test_df.loc[20])\n",
        "prediction_input = test_df.loc[[13, 16 , 20]]  # Pass rows as DataFrame\n",
        "predictions = clf.predict(prediction_input)\n",
        "print(\"Predictions:\", predictions)\n",
        "accuracy = clf.score(validation_x_split, validation_y_split)\n",
        "print(f\"Validation Accuracy: {accuracy * 100:.2f}%\")\n"
      ],
      "metadata": {
        "colab": {
          "base_uri": "https://localhost:8080/",
          "height": 1000
        },
        "id": "g1fo_s4AqFFI",
        "outputId": "cc161ded-36dd-4059-c3a6-970996a7a880"
      },
      "execution_count": null,
      "outputs": [
        {
          "output_type": "display_data",
          "data": {
            "text/plain": [
              "<Figure size 640x480 with 1 Axes>"
            ],
            "image/png": "[encoded data removed]"
          },
          "metadata": {}
        },
        {
          "output_type": "display_data",
          "data": {
            "text/plain": [
              "<Figure size 640x480 with 1 Axes>"
            ],
            "image/png": "[encoded data removed]"
          },
          "metadata": {}
        },
        {
          "output_type": "display_data",
          "data": {
            "text/plain": [
              "<Figure size 640x480 with 1 Axes>"
            ],
            "image/png": "[encoded data removed]"
          },
          "metadata": {}
        },
        {
          "output_type": "stream",
          "name": "stdout",
          "text": [
            "Predictions: [0 3 9]\n",
            "Validation Accuracy: 97.17%\n"
          ]
        }
      ]
    }
  ]
}